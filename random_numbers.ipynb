{
 "cells": [
  {
   "cell_type": "code",
   "execution_count": 18,
   "id": "ad700211",
   "metadata": {},
   "outputs": [],
   "source": [
    "# import random -- redundant once i import numpy\n",
    "import numpy as np"
   ]
  },
  {
   "cell_type": "code",
   "execution_count": 19,
   "id": "2542b024",
   "metadata": {},
   "outputs": [
    {
     "data": {
      "text/plain": [
       "0.4234648598881734"
      ]
     },
     "execution_count": 19,
     "metadata": {},
     "output_type": "execute_result"
    }
   ],
   "source": [
    "random.random() #random between 0 and 1"
   ]
  },
  {
   "cell_type": "code",
   "execution_count": 20,
   "id": "962df7e6",
   "metadata": {},
   "outputs": [
    {
     "data": {
      "text/plain": [
       "26"
      ]
     },
     "execution_count": 20,
     "metadata": {},
     "output_type": "execute_result"
    }
   ],
   "source": [
    "random.randint(-90,90) #random integer"
   ]
  },
  {
   "cell_type": "code",
   "execution_count": 21,
   "id": "1356640c",
   "metadata": {},
   "outputs": [
    {
     "data": {
      "text/plain": [
       "-77"
      ]
     },
     "execution_count": 21,
     "metadata": {},
     "output_type": "execute_result"
    }
   ],
   "source": [
    "random.randrange(-90,90,1) #random inside range with a step parameter, default of 1"
   ]
  },
  {
   "cell_type": "code",
   "execution_count": 22,
   "id": "a6dc9ceb",
   "metadata": {},
   "outputs": [
    {
     "data": {
      "text/plain": [
       "-74.22052267720727"
      ]
     },
     "execution_count": 22,
     "metadata": {},
     "output_type": "execute_result"
    }
   ],
   "source": [
    "random.uniform(-90,90) #use .round() method to limit number of decimal points"
   ]
  },
  {
   "cell_type": "code",
   "execution_count": 23,
   "id": "f7ea18a5",
   "metadata": {},
   "outputs": [
    {
     "data": {
      "text/plain": [
       "-55.671130572790034"
      ]
     },
     "execution_count": 23,
     "metadata": {},
     "output_type": "execute_result"
    }
   ],
   "source": [
    "random_number = random.randint(-90, 89) + random.random()\n",
    "\n",
    "random_number"
   ]
  },
  {
   "cell_type": "code",
   "execution_count": 24,
   "id": "b4296411",
   "metadata": {},
   "outputs": [
    {
     "data": {
      "text/plain": [
       "[25.538688706950918,\n",
       " -41.92453988627508,\n",
       " 41.30867318415223,\n",
       " 19.831395898863526,\n",
       " -46.2814015278548,\n",
       " -85.11586838670321,\n",
       " 89.92148135609649,\n",
       " 43.03440927567479,\n",
       " -33.35382343207092,\n",
       " -73.6341667736305]"
      ]
     },
     "execution_count": 24,
     "metadata": {},
     "output_type": "execute_result"
    }
   ],
   "source": [
    "x = 1\n",
    "latitudes = []\n",
    "\n",
    "while x < 11:\n",
    "    random_lat = random.randint(-90, 89) + random.random()\n",
    "    latitudes.append(random_lat)\n",
    "    \n",
    "    x += 1\n",
    "    \n",
    "latitudes"
   ]
  },
  {
   "cell_type": "code",
   "execution_count": 25,
   "id": "f732225a",
   "metadata": {},
   "outputs": [
    {
     "data": {
      "text/plain": [
       "52.15780969185147"
      ]
     },
     "execution_count": 25,
     "metadata": {},
     "output_type": "execute_result"
    }
   ],
   "source": [
    "# Using NumPy to reduce amount of programming needed compared to a while loop or other such methods\n",
    "np.random.uniform(-90.000, 90.000)\n",
    "\n",
    "# np.random.uniform(low=-90, high=90)"
   ]
  },
  {
   "cell_type": "code",
   "execution_count": 26,
   "id": "1e6a0e77",
   "metadata": {},
   "outputs": [
    {
     "data": {
      "text/plain": [
       "array([  5.70853154, -15.81633626, -77.30568264, -57.20131174,\n",
       "        58.59160322, -40.57696614,  25.58792623,  82.99183546,\n",
       "        27.3882879 ,  61.81364534, -69.59284576, -56.95933238,\n",
       "       -43.62037772,  75.91518799,  53.05983838, -74.70949651,\n",
       "       -37.62745959, -41.4298124 , -11.85359214,  82.9480343 ,\n",
       "        60.53034973,  34.34700153, -23.32821321,  86.17330572,\n",
       "        -2.73096599, -41.36171797, -83.5552332 , -32.05672329,\n",
       "        -6.77112777, -58.15326554, -70.98170952,  53.09324385,\n",
       "       -10.08437186, -86.23830223,  28.04150385,  45.00221793,\n",
       "         5.4099982 , -13.23740806, -42.16582574, -10.88401822,\n",
       "        -6.89311042,  26.67090451,  52.62562536,  39.11937928,\n",
       "        26.23327555,  36.96095097, -12.80490361,  29.00812642,\n",
       "       -37.26545562,  72.75215925])"
      ]
     },
     "execution_count": 26,
     "metadata": {},
     "output_type": "execute_result"
    }
   ],
   "source": [
    "np.random.uniform(-90.000, 90.000, size=50)"
   ]
  },
  {
   "cell_type": "code",
   "execution_count": 27,
   "id": "fef2a623",
   "metadata": {},
   "outputs": [],
   "source": [
    "# Import timeit.\n",
    "import timeit"
   ]
  },
  {
   "cell_type": "code",
   "execution_count": 28,
   "id": "beb37b8d",
   "metadata": {},
   "outputs": [
    {
     "name": "stdout",
     "output_type": "stream",
     "text": [
      "13 µs ± 12.2 ns per loop (mean ± std. dev. of 7 runs, 100000 loops each)\n"
     ]
    }
   ],
   "source": [
    "%timeit np.random.uniform(-90.000, 90.000, size=1500)"
   ]
  },
  {
   "cell_type": "code",
   "execution_count": 29,
   "id": "e48b4445",
   "metadata": {},
   "outputs": [
    {
     "name": "stdout",
     "output_type": "stream",
     "text": [
      "1.57 ms ± 3.05 µs per loop (mean ± std. dev. of 7 runs, 1000 loops each)\n"
     ]
    }
   ],
   "source": [
    "def latitudes(size):\n",
    "    latitudes = []\n",
    "    x = 0\n",
    "    while x < (size):\n",
    "        random_lat = random.randint(-90, 90) + random.random()\n",
    "        latitudes.append(random_lat)\n",
    "        x += 1\n",
    "    return latitudes\n",
    "# Call the function with 1500.\n",
    "%timeit latitudes(1500)"
   ]
  },
  {
   "cell_type": "code",
   "execution_count": 31,
   "id": "1c84b777",
   "metadata": {},
   "outputs": [
    {
     "name": "stdout",
     "output_type": "stream",
     "text": [
      "1.52 ms ± 4.85 µs per loop (mean ± std. dev. of 7 runs, 1000 loops each)\n"
     ]
    }
   ],
   "source": [
    "def latitudes(size):\n",
    "    latitudes = []\n",
    "    for x in range(size):\n",
    "        random_lat = random.randint(-90, 90) + random.random()\n",
    "        latitudes.append(random_lat)\n",
    "    return latitudes\n",
    "# Call the function with 1500.\n",
    "%timeit latitudes(1500)"
   ]
  },
  {
   "cell_type": "code",
   "execution_count": null,
   "id": "abc7ec0a",
   "metadata": {},
   "outputs": [],
   "source": []
  }
 ],
 "metadata": {
  "kernelspec": {
   "display_name": "PythonData",
   "language": "python",
   "name": "pythondata"
  },
  "language_info": {
   "codemirror_mode": {
    "name": "ipython",
    "version": 3
   },
   "file_extension": ".py",
   "mimetype": "text/x-python",
   "name": "python",
   "nbconvert_exporter": "python",
   "pygments_lexer": "ipython3",
   "version": "3.7.13"
  }
 },
 "nbformat": 4,
 "nbformat_minor": 5
}
